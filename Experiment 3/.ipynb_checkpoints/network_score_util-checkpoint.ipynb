{
 "cells": [
  {
   "cell_type": "markdown",
   "metadata": {},
   "source": [
    "# network_score\n",
    "Takes a network and returns a list of its scores\n",
    "\n",
    "## Requirements:\n",
    "* The network being scored must be open in Cytoscape Desktop\n",
    "* The file `cyto_to_shapely_node.ipynb` must be in this directory\n",
    "* The file `cyto_to_shapely_edge.ipynb` must be in this directory\n",
    "* The file `full_cyto_to_shapely.ipynb` must be in this directory\n",
    "\n",
    "## Methods:\n",
    "### network_score(network_suid, view_suid)\n",
    "#### Parameters:\n",
    "* network_suid: Suid of network to score\n",
    "* view_suid: View suid of network to score\n",
    "\n",
    "#### Returns:\n",
    "* List of scores in the following order:\n",
    "    * Edge crossings\n",
    "    * Edge length\n",
    "    * Node distance\n",
    "    * Node-edge distance\n",
    "    * Downward edge\n",
    "    \n",
    "#### Effects:\n",
    "* None"
   ]
  },
  {
   "cell_type": "code",
   "execution_count": null,
   "metadata": {},
   "outputs": [],
   "source": [
    "\n",
    "\n",
    "def network_score(network_suid, view_suid):\n",
    "    "
   ]
  }
 ],
 "metadata": {
  "kernelspec": {
   "display_name": "Python 3",
   "language": "python",
   "name": "python3"
  },
  "language_info": {
   "codemirror_mode": {
    "name": "ipython",
    "version": 3
   },
   "file_extension": ".py",
   "mimetype": "text/x-python",
   "name": "python",
   "nbconvert_exporter": "python",
   "pygments_lexer": "ipython3",
   "version": "3.8.2"
  }
 },
 "nbformat": 4,
 "nbformat_minor": 4
}
