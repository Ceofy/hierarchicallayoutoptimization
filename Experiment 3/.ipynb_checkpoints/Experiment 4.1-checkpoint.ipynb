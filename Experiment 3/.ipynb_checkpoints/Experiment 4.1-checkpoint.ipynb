{
 "cells": [
  {
   "cell_type": "code",
   "execution_count": 5,
   "metadata": {},
   "outputs": [
    {
     "name": "stderr",
     "output_type": "stream",
     "text": [
      "ERROR:root:File `'cyto_to_shapely_node_util.ipynb.py'` not found.\n",
      "ERROR:root:File `'cyto_to_shapely_edge_util.ipynb.py'` not found.\n",
      "ERROR:root:File `'full_cyto_to_shapely_util.ipynb.py'` not found.\n"
     ]
    }
   ],
   "source": [
    "%run utils/cyto_to_shapely_node_util.ipynb\n",
    "%run utils/cyto_to_shapely_edge_util.ipynb\n",
    "%run utils/full_cyto_to_shapely_util.ipynb\n",
    "%run utils/network_score_util.ipynb"
   ]
  },
  {
   "cell_type": "code",
   "execution_count": null,
   "metadata": {},
   "outputs": [],
   "source": []
  }
 ],
 "metadata": {
  "kernelspec": {
   "display_name": "Python 3",
   "language": "python",
   "name": "python3"
  },
  "language_info": {
   "codemirror_mode": {
    "name": "ipython",
    "version": 3
   },
   "file_extension": ".py",
   "mimetype": "text/x-python",
   "name": "python",
   "nbconvert_exporter": "python",
   "pygments_lexer": "ipython3",
   "version": "3.8.2"
  }
 },
 "nbformat": 4,
 "nbformat_minor": 4
}
