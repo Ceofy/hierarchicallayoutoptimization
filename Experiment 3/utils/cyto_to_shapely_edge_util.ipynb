{
 "cells": [
  {
   "cell_type": "markdown",
   "metadata": {},
   "source": [
    "# cyto_to_shapely_edge\n",
    "Convert any straight cytoscape edge to a shapely linestring\n",
    "\n",
    "## Requirements\n",
    "* none\n",
    "\n",
    "## Methods:\n",
    "### cyto_to_shapely_edge()\n",
    "#### Parameters:\n",
    "* \n",
    "\n",
    "#### Returns:\n",
    "* \n",
    "\n",
    "#### Effects:\n",
    "* none"
   ]
  },
  {
   "cell_type": "code",
   "execution_count": 2,
   "metadata": {},
   "outputs": [],
   "source": [
    "import shapely\n",
    "from shapely.geometry import LineString\n",
    "\n",
    "def cyto_to_shapely_edge(source_x, source_y, target_x, target_y):\n",
    "    return LineString([(source_x, source_y), (target_x, target_y)])"
   ]
  },
  {
   "cell_type": "code",
   "execution_count": null,
   "metadata": {},
   "outputs": [],
   "source": []
  }
 ],
 "metadata": {
  "kernelspec": {
   "display_name": "Python 3",
   "language": "python",
   "name": "python3"
  },
  "language_info": {
   "codemirror_mode": {
    "name": "ipython",
    "version": 3
   },
   "file_extension": ".py",
   "mimetype": "text/x-python",
   "name": "python",
   "nbconvert_exporter": "python",
   "pygments_lexer": "ipython3",
   "version": "3.8.2"
  }
 },
 "nbformat": 4,
 "nbformat_minor": 4
}
