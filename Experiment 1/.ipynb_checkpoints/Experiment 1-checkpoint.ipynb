{
 "cells": [
  {
   "cell_type": "markdown",
   "metadata": {},
   "source": [
    "**Goal:**\n",
    "\n",
    "Create a jupyter notebook which will take a Cytoscape network and score it by:\n",
    "* Applying a Cytoscape layout to the Cytoscape graph\n",
    "* Translating the Cytoscape network into a Shapely graph\n",
    "* Counting the edge crossings\n",
    "* Measuring the distance between connected nodes\n",
    "* Measuring the distance between unconnected nodes\n",
    "* Measuring the distances between close nodes and edges\n",
    "* Returning the score\n",
    "\n",
    "**Requirements:**\n",
    "* Cytoscape must be open, and the graph being evaluated must be displayed\n",
    "* The file `cyto_to_shapely_node_util.ipynb` must be in the `utils` directory under this directory\n",
    "* The file `cyto_to_shapely_edge_util.ipynb` must be in the `utils` directory under this directory\n",
    "* The file `full_cyto_to_shapely_util.ipynb` must be in the `utils` directory under this directory"
   ]
  },
  {
   "cell_type": "code",
   "execution_count": 24,
   "metadata": {},
   "outputs": [],
   "source": [
    "#Imports, constants, global variables\n",
    "import math\n",
    "from statistics import *\n",
    "\n",
    "from math import *\n",
    "import requests\n",
    "import urllib.parse\n",
    "import numpy as np\n",
    "import matplotlib.pyplot as plt\n",
    "from py2cytoscape import cyrest\n",
    "from shapely.geometry import Polygon\n",
    "\n",
    "%run utils/cyto_to_shapely_node_util.ipynb\n",
    "%run utils/cyto_to_shapely_edge_util.ipynb\n",
    "%run utils/full_cyto_to_shapely_util.ipynb\n",
    "\n",
    "BASE_URL = 'http://localhost:1234/v1/'\n",
    "\n",
    "cy = cyrest.cyclient()"
   ]
  },
  {
   "cell_type": "code",
   "execution_count": 4,
   "metadata": {},
   "outputs": [
    {
     "data": {
      "text/plain": [
       "{'message': 'Layout finished.'}"
      ]
     },
     "execution_count": 4,
     "metadata": {},
     "output_type": "execute_result"
    }
   ],
   "source": [
    "#Apply a Cytoscape layout to the Cytoscape graph that's currently open\n",
    "CYTOSCAPE_LAYOUT = 'hierarchical'\n",
    "CYTOSCAPE_LAYOUT_COLUMN = ''\n",
    "\n",
    "network_suid = str(cy.network.get_attribute(\n",
    "    columnList='SUID',\n",
    "    network='CURRENT'\n",
    ")[0]['SUID'])\n",
    "\n",
    "requests.get(BASE_URL \n",
    "             + 'apply/layouts/' \n",
    "             + CYTOSCAPE_LAYOUT \n",
    "             + '/' \n",
    "             + str(network_suid)\n",
    "             + '?'\n",
    "             + urllib.parse.quote(CYTOSCAPE_LAYOUT_COLUMN)).json()"
   ]
  },
  {
   "cell_type": "code",
   "execution_count": 67,
   "metadata": {},
   "outputs": [
    {
     "data": {
      "image/png": "[encoded data removed]",
      "text/plain": [
       "<Figure size 450x450 with 1 Axes>"
      ]
     },
     "metadata": {
      "needs_background": "light"
     },
     "output_type": "display_data"
    }
   ],
   "source": [
    "#Translate the Cytoscape network into a Shapely graph\n",
    "network_suid = str(cy.network.get_attribute(\n",
    "    columnList='SUID',\n",
    "    network='CURRENT'\n",
    ")[0]['SUID'])\n",
    "view_suid = str(requests.get(BASE_URL + 'networks/views/currentNetworkView').json()['data']['networkViewSUID'])\n",
    "shapes, lines = full_cyto_to_shapely(network_suid, view_suid)\n",
    "\n",
    "#View network\n",
    "fig = plt.figure(1, figsize=(5,5), dpi=90)\n",
    "ax = fig.add_subplot(111)\n",
    "\n",
    "coords = []\n",
    "for shape_info in shapes.values():\n",
    "    coords.append(shape_info['shape'].exterior.xy)\n",
    "for coord in coords:\n",
    "    x, y = coord\n",
    "    ax.plot(x, y, linewidth=0.5)\n",
    "    \n",
    "for line_info in lines.values():\n",
    "    line = line_info['line']\n",
    "    ax.plot(*np.array(line).T, linewidth=0.5)\n",
    "    \n",
    "ax.set_aspect(1)\n",
    "ax.set_ylim(ax.get_ylim()[::-1])\n",
    "ylim = ax.get_ylim()\n",
    "xlim = ax.get_xlim()"
   ]
  },
  {
   "cell_type": "code",
   "execution_count": 7,
   "metadata": {},
   "outputs": [
    {
     "name": "stdout",
     "output_type": "stream",
     "text": [
      "Edge Crossings: 19\n",
      "Edge Crossings Score: 0.9824236817761333\n"
     ]
    }
   ],
   "source": [
    "#Count the edge crossings\n",
    "edge_crossings = 0\n",
    "\n",
    "checked = []\n",
    "for outer_line_suid, outer_line_info in lines.items():\n",
    "    checked.append(outer_line_suid)\n",
    "    outer_line = outer_line_info['line']\n",
    "    outer_source = outer_line_info['source']\n",
    "    outer_target = outer_line_info['target']\n",
    "    for inner_line_suid, inner_line_info in lines.items():\n",
    "        if inner_line_suid in checked:\n",
    "            continue\n",
    "        inner_line = inner_line_info['line']\n",
    "        if inner_line.intersects(outer_line):\n",
    "            edge_crossings += 1\n",
    "            \n",
    "possible_edge_crossings = len(checked) * (len(checked) - 1) / 2\n",
    "edge_crossings_score = (possible_edge_crossings - edge_crossings) / possible_edge_crossings\n",
    "                \n",
    "print('Edge Crossings: ' + str(edge_crossings))\n",
    "print('Edge Crossings Score: ' + str(edge_crossings_score))"
   ]
  },
  {
   "cell_type": "code",
   "execution_count": 8,
   "metadata": {},
   "outputs": [
    {
     "name": "stdout",
     "output_type": "stream",
     "text": [
      "Edge Length: 10153.017447846503\n",
      "Edge Cost:   10153.017447846503\n",
      "Edge Length Score: 0.8508922303494869\n"
     ]
    }
   ],
   "source": [
    "#Measure the distance between connected nodes (edge length)\n",
    "diagonal = sqrt((xlim[1] - xlim[0]) ** 2 + (ylim[1] - ylim[0]) ** 2)\n",
    "\n",
    "def cost(length):#Can have penalty for extremely short edges\n",
    "    if length < 35:\n",
    "        return diagonal\n",
    "    return length\n",
    "\n",
    "total_edge_length = 0\n",
    "total_edge_cost = 0\n",
    "\n",
    "for line_info in lines.values():\n",
    "    total_edge_length += line_info['line'].length\n",
    "    total_edge_cost += cost(line_info['line'].length)\n",
    "    \n",
    "edge_cost_score = max(0, 1 - total_edge_cost/len(lines)/diagonal)\n",
    "\n",
    "print('Edge Length: ' + str(total_edge_length))\n",
    "print('Edge Cost:   ' + str(total_edge_cost))\n",
    "print('Edge Length Score: ' + str(edge_cost_score))"
   ]
  },
  {
   "cell_type": "code",
   "execution_count": 9,
   "metadata": {},
   "outputs": [
    {
     "name": "stdout",
     "output_type": "stream",
     "text": [
      "Node Distance: 1439.534742102498\n",
      "Node Distance Score: 0.033121034687798784\n"
     ]
    }
   ],
   "source": [
    "#Measure the distance between unconnected nodes\n",
    "total_node_distance = 0\n",
    "\n",
    "for outer_shape_info in shapes.values():\n",
    "    outer_shape = outer_shape_info['shape']\n",
    "    min_distance = float('Infinity')\n",
    "    for inner_shape_info in shapes.values():\n",
    "        inner_shape = inner_shape_info['shape']\n",
    "        if inner_shape == outer_shape:\n",
    "            continue\n",
    "        distance = outer_shape.distance(inner_shape)\n",
    "        if distance < min_distance:\n",
    "            min_distance = distance\n",
    "    total_node_distance += min_distance\n",
    "    \n",
    "diagonal = sqrt((xlim[1] - xlim[0]) ** 2 + (ylim[1] - ylim[0]) ** 2)\n",
    "node_distance_score = total_node_distance / diagonal / len(shapes)\n",
    "\n",
    "print('Node Distance: ' + str(total_node_distance))\n",
    "print('Node Distance Score: ' + str(node_distance_score))          "
   ]
  },
  {
   "cell_type": "code",
   "execution_count": 10,
   "metadata": {},
   "outputs": [
    {
     "name": "stdout",
     "output_type": "stream",
     "text": [
      "Node-Edge Distance: 1275.779387943439\n",
      "Node-Edge Distance Score: 0.029353326547949813\n"
     ]
    }
   ],
   "source": [
    "#Measure the distance between a node and the closest edge\n",
    "total_node_edge_distance = 0\n",
    "\n",
    "for shape_suid, shape_info in shapes.items():\n",
    "    shape = shape_info['shape']\n",
    "    min_distance = float('Infinity')\n",
    "    for line_info in lines.values():\n",
    "        if line_info['source'] == shape_suid or line_info['target'] == shape_suid:\n",
    "            continue\n",
    "        distance = shape.distance(line_info['line'])\n",
    "        if distance < min_distance:\n",
    "            min_distance = distance\n",
    "    total_node_edge_distance += min_distance\n",
    "    \n",
    "diagonal = sqrt((xlim[1] - xlim[0]) ** 2 + (ylim[1] - ylim[0]) ** 2)\n",
    "node_edge_distance_score = total_node_edge_distance / diagonal / len(shapes)\n",
    "\n",
    "print('Node-Edge Distance: ' + str(total_node_edge_distance))\n",
    "print('Node-Edge Distance Score: ' + str(node_edge_distance_score))"
   ]
  },
  {
   "cell_type": "code",
   "execution_count": 11,
   "metadata": {},
   "outputs": [
    {
     "name": "stdout",
     "output_type": "stream",
     "text": [
      "Downward Edges: 46\n",
      "Downward Edges Score: 0.9787234042553191\n"
     ]
    }
   ],
   "source": [
    "#Measure the number of downward pointing edges (more than 15 degrees below horizontal)\n",
    "downward_edges = 0\n",
    "THRESHOLD = 15 * math.pi / 180\n",
    "\n",
    "def _is_downward_pointing(source_x, source_y, target_x, target_y):\n",
    "    if source_y > target_y:\n",
    "        return False\n",
    "    dx = abs(target_x - source_x)\n",
    "    dy = abs(target_y - source_y)\n",
    "    if math.atan(dy / dx) > THRESHOLD:\n",
    "        return True\n",
    "    return False\n",
    "\n",
    "for line_info in lines.values():\n",
    "    source_suid = line_info['source']\n",
    "    target_suid = line_info['target']\n",
    "    if _is_downward_pointing(\n",
    "        shapes[source_suid]['x'],\n",
    "        shapes[source_suid]['y'],\n",
    "        shapes[target_suid]['x'],\n",
    "        shapes[target_suid]['y']\n",
    "    ):\n",
    "        downward_edges += 1\n",
    "        \n",
    "downward_edges_score = downward_edges / len(lines)\n",
    "\n",
    "print('Downward Edges: ' + str(downward_edges))\n",
    "print('Downward Edges Score: ' + str(downward_edges_score))"
   ]
  },
  {
   "cell_type": "code",
   "execution_count": 68,
   "metadata": {},
   "outputs": [
    {
     "name": "stdout",
     "output_type": "stream",
     "text": [
      "0.9997477112072213\n"
     ]
    }
   ],
   "source": [
    "#Measure lined up ness\n",
    "def find_min_sum_of_var(variances):\n",
    "    #Add pseudocount\n",
    "    pseudocount = max(variances) / 1000\n",
    "    if pseudocount == 0:\n",
    "        return 0\n",
    "    variances.insert(0, 0)\n",
    "    variances = [vari + pseudocount for vari in variances]\n",
    "            \n",
    "    #Calculate fold increase\n",
    "    fold_increase = []\n",
    "    for i in range(len(variances) - 1):\n",
    "        fold_increase.append(variances[i+1] / variances[i])\n",
    "    return variances[fold_increase.index(max(fold_increase))] - pseudocount\n",
    "\n",
    "#Pre-process data\n",
    "heights = []\n",
    "for shape_info in shapes.values():\n",
    "    heights.append(shape_info['height'])\n",
    "min_height = min(heights)\n",
    "magnitude = floor(log10(min_height / 100))\n",
    "\n",
    "data = {}\n",
    "if magnitude > 0:\n",
    "    for shape_suid, shape_info in shapes.items():\n",
    "        data[shape_suid] = round(shape_info['y'] / 10 ** magnitude) * 10 ** magnitude\n",
    "else:\n",
    "    for shape_suid, shape_info in shapes.items():\n",
    "        data[shape_suid] = round(shape_info['y'], -magnitude)\n",
    "    \n",
    "#Execute clustering and calculate variances\n",
    "clusters = [{'members': [item[0]], 'values': [item[1]]} for item in data.items()]\n",
    "iterations = 0\n",
    "variances = []\n",
    "\n",
    "while len(clusters) > 1:\n",
    "    iterations += 1\n",
    "    #Find closest clusters\n",
    "    smallest_diff = float('Infinity')\n",
    "    i_coord = None\n",
    "    j_coord = None\n",
    "    for i in range(len(clusters)-1):\n",
    "        for j in range(i+1, len(clusters)):\n",
    "            diff = abs(mean(clusters[i]['values']) - mean(clusters[j]['values']))\n",
    "            if diff < smallest_diff:\n",
    "                smallest_diff = diff\n",
    "                i_coord = i\n",
    "                j_coord = j\n",
    "    #Merge closest clusters\n",
    "    clusters[i_coord]['members'] += clusters[j_coord]['members']\n",
    "    clusters[i_coord]['values'] += clusters[j_coord]['values']\n",
    "    del(clusters[j_coord])\n",
    "    \n",
    "    sum_of_variances_within = 0\n",
    "    for cluster in clusters:\n",
    "        if len(cluster['members']) > 1:\n",
    "            sum_of_variances_within += pvariance(cluster['values'])\n",
    "\n",
    "    variances.append(sum_of_variances_within)\n",
    "    \n",
    "min_sum_of_variance = find_min_sum_of_var(variances)\n",
    "min_sum_of_variance_score = 1 - (min_sum_of_variance / ((ylim[1] - ylim[0]) ** 2 / 4))\n",
    "print(min_sum_of_variance_score)"
   ]
  },
  {
   "cell_type": "code",
   "execution_count": 45,
   "metadata": {},
   "outputs": [
    {
     "name": "stdout",
     "output_type": "stream",
     "text": [
      "Raw Edge Crossings Score:     0.9528214616096207\n",
      "Raw Edge Length Score:        0.7515144914533366\n",
      "Raw Node Distance Score:      0.012482873707068852\n",
      "Raw Node-Edge Distance Score: 0.019297229259371346\n",
      "Raw Downward Edges Score:     0.9787234042553191\n",
      "\n",
      "Weighted Edge Crossings Score:     0.19056429232192412\n",
      "Weighted Edge Length Score:        0.15030289829066731\n",
      "Weighted Node Distance Score:      0.0024965747414137703\n",
      "Weighted Node-Edge Distance Score: 0.0038594458518742695\n",
      "Weighted Downward Edges Score      0.19574468085106383\n",
      "\n",
      "Total Score: 0.34722321120587946\n"
     ]
    }
   ],
   "source": [
    "#Print total scores\n",
    "EDGE_CROSSINGS_WEIGHT = 1\n",
    "EDGE_LENGTH_WEIGHT = 1\n",
    "NODE_DISTANCE_WEIGHT = 1\n",
    "NODE_EDGE_DISTANCE_WEIGHT = 1\n",
    "DOWNWARD_EDGE_WEIGHT = 1\n",
    "total_weight = EDGE_CROSSINGS_WEIGHT + EDGE_LENGTH_WEIGHT + NODE_DISTANCE_WEIGHT + NODE_EDGE_DISTANCE_WEIGHT + DOWNWARD_EDGE_WEIGHT\n",
    "\n",
    "weighted_edge_crossings_score = EDGE_CROSSINGS_WEIGHT * edge_crossings_score / total_weight\n",
    "weighted_edge_cost_score = EDGE_LENGTH_WEIGHT * edge_cost_score / total_weight\n",
    "weighted_node_distance_score = NODE_DISTANCE_WEIGHT * node_distance_score / total_weight\n",
    "weighted_node_edge_distance_score = NODE_EDGE_DISTANCE_WEIGHT * node_edge_distance_score / total_weight\n",
    "weighted_downward_edges_score = DOWNWARD_EDGE_WEIGHT * downward_edges_score / total_weight\n",
    "total_score = weighted_edge_crossings_score + weighted_edge_cost_score + weighted_node_distance_score + weighted_node_edge_distance_score\n",
    "\n",
    "print('Raw Edge Crossings Score:     ' + str(edge_crossings_score))\n",
    "print('Raw Edge Length Score:        ' + str(edge_cost_score))\n",
    "print('Raw Node Distance Score:      ' + str(node_distance_score))         \n",
    "print('Raw Node-Edge Distance Score: ' + str(node_edge_distance_score))\n",
    "print('Raw Downward Edges Score:     ' + str(downward_pointing_edges_score))\n",
    "print()\n",
    "print('Weighted Edge Crossings Score:     ' + str(weighted_edge_crossings_score))\n",
    "print('Weighted Edge Length Score:        ' + str(weighted_edge_cost_score))\n",
    "print('Weighted Node Distance Score:      ' + str(weighted_node_distance_score))         \n",
    "print('Weighted Node-Edge Distance Score: ' + str(weighted_node_edge_distance_score))\n",
    "print('Weighted Downward Edges Score      ' + str(weighted_downward_edges_score))\n",
    "print()\n",
    "print('Total Score: ' + str(total_score))"
   ]
  },
  {
   "cell_type": "code",
   "execution_count": null,
   "metadata": {},
   "outputs": [],
   "source": []
  },
  {
   "cell_type": "code",
   "execution_count": null,
   "metadata": {},
   "outputs": [],
   "source": []
  }
 ],
 "metadata": {
  "kernelspec": {
   "display_name": "Python 3",
   "language": "python",
   "name": "python3"
  },
  "language_info": {
   "codemirror_mode": {
    "name": "ipython",
    "version": 3
   },
   "file_extension": ".py",
   "mimetype": "text/x-python",
   "name": "python",
   "nbconvert_exporter": "python",
   "pygments_lexer": "ipython3",
   "version": "3.8.2"
  }
 },
 "nbformat": 4,
 "nbformat_minor": 4
}
