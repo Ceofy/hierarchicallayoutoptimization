{
 "cells": [
  {
   "cell_type": "code",
   "execution_count": 1,
   "metadata": {},
   "outputs": [],
   "source": [
    "from py2cytoscape import cyrest\n",
    "from statistics import *\n",
    "from math import *\n",
    "from numpy.random import randint"
   ]
  },
  {
   "cell_type": "code",
   "execution_count": 7,
   "metadata": {},
   "outputs": [
    {
     "data": {
      "text/plain": [
       "{'61': 42.24019460660452,\n",
       " '62': -192.75980539339548,\n",
       " '63': -332.7598053933955,\n",
       " '64': 277.2401946066045,\n",
       " '65': -332.7598053933955,\n",
       " '66': -332.7598053933955,\n",
       " '67': 277.2401946066045,\n",
       " '68': -192.75980539339548,\n",
       " '69': -567.7598053933955,\n",
       " '70': -332.7598053933955,\n",
       " '71': -192.75980539339548,\n",
       " '72': -567.7598053933955,\n",
       " '73': -427.7598053933955,\n",
       " '74': 42.24019460660452,\n",
       " '75': 152.24019460660452,\n",
       " '76': -67.75980539339548,\n",
       " '77': -427.7598053933955,\n",
       " '78': -67.75980539339548,\n",
       " '79': -567.7598053933955,\n",
       " '80': -567.7598053933955,\n",
       " '81': -427.7598053933955,\n",
       " '82': -427.7598053933955,\n",
       " '83': -427.7598053933955,\n",
       " '84': -427.7598053933955,\n",
       " '85': -332.7598053933955,\n",
       " '86': -567.7598053933955,\n",
       " '87': -427.7598053933955,\n",
       " '88': 152.24019460660452,\n",
       " '89': -67.75980539339548,\n",
       " '90': -567.7598053933955}"
      ]
     },
     "execution_count": 7,
     "metadata": {},
     "output_type": "execute_result"
    }
   ],
   "source": [
    "#Get data from current network\n",
    "cy = cyrest.cyclient()\n",
    "data = {}\n",
    "\n",
    "\n",
    "raw_data = cy.node.get_properties(network='CURRENT', nodeList='all', propertyList='Y Location, Height')\n",
    "for entry in raw_data:\n",
    "    data[str(entry['SUID'])] = entry['visualProperties'][0]['value']\n",
    "    \n",
    "data"
   ]
  },
  {
   "cell_type": "code",
   "execution_count": 12,
   "metadata": {},
   "outputs": [
    {
     "name": "stdout",
     "output_type": "stream",
     "text": [
      "2.0406678821207053e-24\n",
      "2.0406678821207053e-24\n",
      "2.0406678821207053e-24\n",
      "2.0406678821207053e-24\n",
      "2.0406678821207053e-24\n",
      "2.0406678821207053e-24\n",
      "2.0406678821207053e-24\n",
      "2.0406678821207053e-24\n",
      "2.0406678821207053e-24\n",
      "2.0406678821207053e-24\n",
      "2.0406678821207053e-24\n",
      "2.0406678821207053e-24\n",
      "2.0406678821207053e-24\n",
      "2.0406678821207053e-24\n",
      "2.0406678821207053e-24\n",
      "2.0406678821207053e-24\n",
      "2.0406678821207053e-24\n",
      "2.0406678821207053e-24\n",
      "2.0406678821207053e-24\n",
      "2.0406678821207053e-24\n",
      "2.0406678821207053e-24\n",
      "2.0406678821207053e-24\n",
      "2.0406678821207053e-24\n",
      "2.0406678821207053e-24\n",
      "2.2791612048326745e-22\n",
      "4.332574410297645e-22\n",
      "7.156017567811979e-22\n",
      "9.737451311825085e-22\n",
      "1.420712260565477e-21\n",
      "2.042708550002826e-21\n"
     ]
    }
   ],
   "source": [
    "#Get data from current network\n",
    "cy = cyrest.cyclient()\n",
    "data = {}\n",
    "\n",
    "\n",
    "raw_data = cy.node.get_properties(network='CURRENT', nodeList='all', propertyList='Y Location, Height')\n",
    "for entry in raw_data:\n",
    "    data[str(entry['SUID'])] = entry['visualProperties'][0]['value']\n",
    "    \n",
    "data\n",
    "#Add 1/1000 of largest variance as pseudocount\n",
    "\n",
    "clusters = [{'members': [item[0]], 'values': [item[1]]} for item in data.items()]\n",
    "iterations = 0\n",
    "variances = []\n",
    "\n",
    "while len(clusters) > 1:\n",
    "    iterations += 1\n",
    "    #Find closest clusters\n",
    "    smallest_diff = float('Infinity')\n",
    "    i_coord = None\n",
    "    j_coord = None\n",
    "    for i in range(len(clusters)-1):\n",
    "        for j in range(i+1, len(clusters)):\n",
    "            diff = abs(mean(clusters[i]['values']) - mean(clusters[j]['values']))\n",
    "            if diff < smallest_diff:\n",
    "                smallest_diff = diff\n",
    "                i_coord = i\n",
    "                j_coord = j\n",
    "    #Merge closest clusters\n",
    "    clusters[i_coord]['members'] += clusters[j_coord]['members']\n",
    "    clusters[i_coord]['values'] += clusters[j_coord]['values']\n",
    "    del(clusters[j_coord])\n",
    "    \n",
    "    sum_of_variances_within = 0\n",
    "    for cluster in clusters:\n",
    "        if len(cluster['members']) > 1:\n",
    "            sum_of_variances_within += variance(cluster['values'])\n",
    "\n",
    "    variances.append(sum_of_variances_within)\n",
    "    \n",
    "pseudocount = max(variances) / 1000\n",
    "print(pseudocount)\n",
    "for var in variances:\n",
    "    print(str(var + pseudocount))"
   ]
  },
  {
   "cell_type": "code",
   "execution_count": null,
   "metadata": {},
   "outputs": [],
   "source": []
  }
 ],
 "metadata": {
  "kernelspec": {
   "display_name": "Python 3",
   "language": "python",
   "name": "python3"
  },
  "language_info": {
   "codemirror_mode": {
    "name": "ipython",
    "version": 3
   },
   "file_extension": ".py",
   "mimetype": "text/x-python",
   "name": "python",
   "nbconvert_exporter": "python",
   "pygments_lexer": "ipython3",
   "version": "3.8.2"
  }
 },
 "nbformat": 4,
 "nbformat_minor": 4
}
